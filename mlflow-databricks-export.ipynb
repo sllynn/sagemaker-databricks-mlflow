{
 "cells": [
  {
   "cell_type": "code",
   "execution_count": 1,
   "metadata": {
    "collapsed": true
   },
   "outputs": [
    {
     "name": "stdout",
     "output_type": "stream",
     "text": [
      "Collecting mlflow\n",
      "  Downloading mlflow-1.11.0-py3-none-any.whl (13.9 MB)\n",
      "\u001b[K     |████████████████████████████████| 13.9 MB 4.5 MB/s eta 0:00:01\n",
      "\u001b[?25hRequirement already satisfied: pyyaml in /home/ec2-user/anaconda3/envs/python3/lib/python3.6/site-packages (from mlflow) (5.3.1)\n",
      "Requirement already satisfied: entrypoints in /home/ec2-user/anaconda3/envs/python3/lib/python3.6/site-packages (from mlflow) (0.3)\n",
      "Requirement already satisfied: python-dateutil in /home/ec2-user/anaconda3/envs/python3/lib/python3.6/site-packages (from mlflow) (2.8.1)\n",
      "Collecting prometheus-flask-exporter\n",
      "  Downloading prometheus_flask_exporter-0.18.1.tar.gz (21 kB)\n",
      "Requirement already satisfied: protobuf>=3.6.0 in /home/ec2-user/anaconda3/envs/python3/lib/python3.6/site-packages (from mlflow) (3.13.0)\n",
      "Requirement already satisfied: numpy in /home/ec2-user/anaconda3/envs/python3/lib/python3.6/site-packages (from mlflow) (1.18.1)\n",
      "Requirement already satisfied: pandas in /home/ec2-user/anaconda3/envs/python3/lib/python3.6/site-packages (from mlflow) (1.0.1)\n",
      "Collecting azure-storage-blob>=12.0\n",
      "  Downloading azure_storage_blob-12.5.0-py2.py3-none-any.whl (326 kB)\n",
      "\u001b[K     |████████████████████████████████| 326 kB 63.8 MB/s eta 0:00:01\n",
      "\u001b[?25hRequirement already satisfied: cloudpickle in /home/ec2-user/anaconda3/envs/python3/lib/python3.6/site-packages (from mlflow) (1.3.0)\n",
      "Collecting sqlparse\n",
      "  Downloading sqlparse-0.4.1-py3-none-any.whl (42 kB)\n",
      "\u001b[K     |████████████████████████████████| 42 kB 1.8 MB/s  eta 0:00:01\n",
      "\u001b[?25hCollecting gitpython>=2.1.0\n",
      "  Downloading GitPython-3.1.9-py3-none-any.whl (159 kB)\n",
      "\u001b[K     |████████████████████████████████| 159 kB 70.9 MB/s eta 0:00:01\n",
      "\u001b[?25hCollecting gorilla\n",
      "  Downloading gorilla-0.3.0-py2.py3-none-any.whl (11 kB)\n",
      "Collecting querystring-parser\n",
      "  Downloading querystring_parser-1.2.4.tar.gz (5.5 kB)\n",
      "Requirement already satisfied: requests>=2.17.3 in /home/ec2-user/anaconda3/envs/python3/lib/python3.6/site-packages (from mlflow) (2.22.0)\n",
      "Requirement already satisfied: Flask in /home/ec2-user/anaconda3/envs/python3/lib/python3.6/site-packages (from mlflow) (1.1.1)\n",
      "Requirement already satisfied: click>=7.0 in /home/ec2-user/anaconda3/envs/python3/lib/python3.6/site-packages (from mlflow) (7.0)\n",
      "Collecting databricks-cli>=0.8.7\n",
      "  Downloading databricks-cli-0.12.1.tar.gz (55 kB)\n",
      "\u001b[K     |████████████████████████████████| 55 kB 5.8 MB/s  eta 0:00:01\n",
      "\u001b[?25hRequirement already satisfied: six>=1.10.0 in /home/ec2-user/anaconda3/envs/python3/lib/python3.6/site-packages (from mlflow) (1.14.0)\n",
      "Requirement already satisfied: docker>=4.0.0 in /home/ec2-user/anaconda3/envs/python3/lib/python3.6/site-packages (from mlflow) (4.3.1)\n",
      "Collecting gunicorn; platform_system != \"Windows\"\n",
      "  Downloading gunicorn-20.0.4-py2.py3-none-any.whl (77 kB)\n",
      "\u001b[K     |████████████████████████████████| 77 kB 1.1 MB/s  eta 0:00:01\n",
      "\u001b[?25hCollecting alembic<=1.4.1\n",
      "  Downloading alembic-1.4.1.tar.gz (1.1 MB)\n",
      "\u001b[K     |████████████████████████████████| 1.1 MB 58.0 MB/s eta 0:00:01\n",
      "\u001b[?25hRequirement already satisfied: sqlalchemy<=1.3.13 in /home/ec2-user/anaconda3/envs/python3/lib/python3.6/site-packages (from mlflow) (1.3.13)\n",
      "Requirement already satisfied: prometheus_client in /home/ec2-user/anaconda3/envs/python3/lib/python3.6/site-packages (from prometheus-flask-exporter->mlflow) (0.7.1)\n",
      "Requirement already satisfied: setuptools in /home/ec2-user/anaconda3/envs/python3/lib/python3.6/site-packages (from protobuf>=3.6.0->mlflow) (45.2.0.post20200210)\n",
      "Requirement already satisfied: pytz>=2017.2 in /home/ec2-user/anaconda3/envs/python3/lib/python3.6/site-packages (from pandas->mlflow) (2019.3)\n",
      "Requirement already satisfied: cryptography>=2.1.4 in /home/ec2-user/anaconda3/envs/python3/lib/python3.6/site-packages (from azure-storage-blob>=12.0->mlflow) (2.8)\n",
      "Collecting msrest>=0.6.10\n",
      "  Downloading msrest-0.6.19-py2.py3-none-any.whl (84 kB)\n",
      "\u001b[K     |████████████████████████████████| 84 kB 5.9 MB/s  eta 0:00:01\n",
      "\u001b[?25hCollecting azure-core<2.0.0,>=1.6.0\n",
      "  Downloading azure_core-1.8.2-py2.py3-none-any.whl (122 kB)\n",
      "\u001b[K     |████████████████████████████████| 122 kB 68.9 MB/s eta 0:00:01\n",
      "\u001b[?25hCollecting gitdb<5,>=4.0.1\n",
      "  Using cached gitdb-4.0.5-py3-none-any.whl (63 kB)\n",
      "Requirement already satisfied: idna<2.9,>=2.5 in /home/ec2-user/anaconda3/envs/python3/lib/python3.6/site-packages (from requests>=2.17.3->mlflow) (2.8)\n",
      "Requirement already satisfied: urllib3!=1.25.0,!=1.25.1,<1.26,>=1.21.1 in /home/ec2-user/anaconda3/envs/python3/lib/python3.6/site-packages (from requests>=2.17.3->mlflow) (1.25.8)\n",
      "Requirement already satisfied: chardet<3.1.0,>=3.0.2 in /home/ec2-user/anaconda3/envs/python3/lib/python3.6/site-packages (from requests>=2.17.3->mlflow) (3.0.4)\n",
      "Requirement already satisfied: certifi>=2017.4.17 in /home/ec2-user/anaconda3/envs/python3/lib/python3.6/site-packages (from requests>=2.17.3->mlflow) (2020.6.20)\n",
      "Requirement already satisfied: Jinja2>=2.10.1 in /home/ec2-user/anaconda3/envs/python3/lib/python3.6/site-packages (from Flask->mlflow) (2.11.1)\n",
      "Requirement already satisfied: Werkzeug>=0.15 in /home/ec2-user/anaconda3/envs/python3/lib/python3.6/site-packages (from Flask->mlflow) (1.0.0)\n",
      "Requirement already satisfied: itsdangerous>=0.24 in /home/ec2-user/anaconda3/envs/python3/lib/python3.6/site-packages (from Flask->mlflow) (1.1.0)\n",
      "Collecting tabulate>=0.7.7\n",
      "  Downloading tabulate-0.8.7-py3-none-any.whl (24 kB)\n",
      "Collecting tenacity>=6.2.0\n",
      "  Downloading tenacity-6.2.0-py2.py3-none-any.whl (24 kB)\n",
      "Requirement already satisfied: websocket-client>=0.32.0 in /home/ec2-user/anaconda3/envs/python3/lib/python3.6/site-packages (from docker>=4.0.0->mlflow) (0.57.0)\n",
      "Collecting Mako\n",
      "  Downloading Mako-1.1.3-py2.py3-none-any.whl (75 kB)\n",
      "\u001b[K     |████████████████████████████████| 75 kB 1.2 MB/s  eta 0:00:01\n",
      "\u001b[?25hCollecting python-editor>=0.3\n",
      "  Downloading python_editor-1.0.4-py3-none-any.whl (4.9 kB)\n",
      "Requirement already satisfied: cffi!=1.11.3,>=1.8 in /home/ec2-user/anaconda3/envs/python3/lib/python3.6/site-packages (from cryptography>=2.1.4->azure-storage-blob>=12.0->mlflow) (1.14.0)\n",
      "Collecting isodate>=0.6.0\n",
      "  Downloading isodate-0.6.0-py2.py3-none-any.whl (45 kB)\n",
      "\u001b[K     |████████████████████████████████| 45 kB 6.0 MB/s  eta 0:00:01\n",
      "\u001b[?25hCollecting requests-oauthlib>=0.5.0\n",
      "  Downloading requests_oauthlib-1.3.0-py2.py3-none-any.whl (23 kB)\n",
      "Collecting smmap<4,>=3.0.1\n",
      "  Using cached smmap-3.0.4-py2.py3-none-any.whl (25 kB)\n",
      "Requirement already satisfied: MarkupSafe>=0.23 in /home/ec2-user/anaconda3/envs/python3/lib/python3.6/site-packages (from Jinja2>=2.10.1->Flask->mlflow) (1.1.1)\n",
      "Requirement already satisfied: pycparser in /home/ec2-user/anaconda3/envs/python3/lib/python3.6/site-packages (from cffi!=1.11.3,>=1.8->cryptography>=2.1.4->azure-storage-blob>=12.0->mlflow) (2.19)\n",
      "Collecting oauthlib>=3.0.0\n",
      "  Downloading oauthlib-3.1.0-py2.py3-none-any.whl (147 kB)\n",
      "\u001b[K     |████████████████████████████████| 147 kB 72.3 MB/s eta 0:00:01\n",
      "\u001b[?25hBuilding wheels for collected packages: prometheus-flask-exporter, querystring-parser, databricks-cli, alembic\n",
      "  Building wheel for prometheus-flask-exporter (setup.py) ... \u001b[?25ldone\n",
      "\u001b[?25h  Created wheel for prometheus-flask-exporter: filename=prometheus_flask_exporter-0.18.1-py3-none-any.whl size=17157 sha256=e7f18863c35aa8cd12dfb3b4a553a957270b6a0e09d0b9f2453acafff3d413f8\n",
      "  Stored in directory: /home/ec2-user/.cache/pip/wheels/fe/70/a9/22af6c68f513e58533fb7fd649f4cc5e2a27c24422a41a1bfa\n",
      "  Building wheel for querystring-parser (setup.py) ... \u001b[?25ldone\n",
      "\u001b[?25h  Created wheel for querystring-parser: filename=querystring_parser-1.2.4-py3-none-any.whl size=7076 sha256=2fd85c1523e55ef9cc74591a910f663d2eca6d8de476824a296ff1e48cb3300b\n",
      "  Stored in directory: /home/ec2-user/.cache/pip/wheels/87/da/0d/a9e8051c7c19128c271107462cd444b37afc22aaed15061ed5\n",
      "  Building wheel for databricks-cli (setup.py) ... \u001b[?25ldone\n",
      "\u001b[?25h  Created wheel for databricks-cli: filename=databricks_cli-0.12.1-py3-none-any.whl size=101140 sha256=43e9917f1d1855cef4825ba40f82b8a1d7a060acd0a84cc5b09d84e553f71003\n",
      "  Stored in directory: /home/ec2-user/.cache/pip/wheels/0e/aa/7c/3c25bc1ae5efba1bda317308125e020d7df44effc0b8039126\n",
      "  Building wheel for alembic (setup.py) ... \u001b[?25ldone\n",
      "\u001b[?25h  Created wheel for alembic: filename=alembic-1.4.1-py2.py3-none-any.whl size=158154 sha256=ffbf0a59b282b3b190923e85d937c5f2088cd97e0ca3662babe7f0015aaabc0a\n",
      "  Stored in directory: /home/ec2-user/.cache/pip/wheels/e9/7b/aa/e18c983d8236b141f85838ba0f8e4e4ae9bcf7f1e00ff726ec\n",
      "Successfully built prometheus-flask-exporter querystring-parser databricks-cli alembic\n"
     ]
    },
    {
     "name": "stdout",
     "output_type": "stream",
     "text": [
      "Installing collected packages: prometheus-flask-exporter, isodate, oauthlib, requests-oauthlib, msrest, azure-core, azure-storage-blob, sqlparse, smmap, gitdb, gitpython, gorilla, querystring-parser, tabulate, tenacity, databricks-cli, gunicorn, Mako, python-editor, alembic, mlflow\n",
      "Successfully installed Mako-1.1.3 alembic-1.4.1 azure-core-1.8.2 azure-storage-blob-12.5.0 databricks-cli-0.12.1 gitdb-4.0.5 gitpython-3.1.9 gorilla-0.3.0 gunicorn-20.0.4 isodate-0.6.0 mlflow-1.11.0 msrest-0.6.19 oauthlib-3.1.0 prometheus-flask-exporter-0.18.1 python-editor-1.0.4 querystring-parser-1.2.4 requests-oauthlib-1.3.0 smmap-3.0.4 sqlparse-0.4.1 tabulate-0.8.7 tenacity-6.2.0\n",
      "\u001b[33mWARNING: You are using pip version 20.0.2; however, version 20.2.3 is available.\n",
      "You should consider upgrading via the '/home/ec2-user/anaconda3/envs/python3/bin/python -m pip install --upgrade pip' command.\u001b[0m\n"
     ]
    }
   ],
   "source": [
    "!pip install mlflow"
   ]
  },
  {
   "cell_type": "code",
   "execution_count": 2,
   "metadata": {
    "collapsed": true
   },
   "outputs": [
    {
     "name": "stdout",
     "output_type": "stream",
     "text": [
      "Collecting databricks\n",
      "  Downloading databricks-0.2-py2.py3-none-any.whl (1.2 kB)\n",
      "Installing collected packages: databricks\n",
      "Successfully installed databricks-0.2\n",
      "\u001b[33mWARNING: You are using pip version 20.0.2; however, version 20.2.3 is available.\n",
      "You should consider upgrading via the '/home/ec2-user/anaconda3/envs/python3/bin/python -m pip install --upgrade pip' command.\u001b[0m\n"
     ]
    }
   ],
   "source": [
    "!pip install databricks"
   ]
  },
  {
   "cell_type": "code",
   "execution_count": 18,
   "metadata": {},
   "outputs": [],
   "source": [
    "profile_name = \"aws-demo\"\n",
    "host = \"https://demo.cloud.databricks.com\"\n",
    "token = \"\"\n",
    "workspace_user_path = \"stuart.lynn@databricks.com\"\n",
    "experiment_name = \"stuarts-sagemaker-experiment\""
   ]
  },
  {
   "cell_type": "code",
   "execution_count": 16,
   "metadata": {},
   "outputs": [],
   "source": [
    "cfg = f\"\"\"[{profile_name}]\n",
    "host = {host}\n",
    "token = {token}\"\"\"\n",
    "\n",
    "with open(\"/home/ec2-user/.databrickscfg\", \"w+\") as fh:\n",
    "    fh.write(cfg)"
   ]
  },
  {
   "cell_type": "code",
   "execution_count": 19,
   "metadata": {},
   "outputs": [
    {
     "name": "stdout",
     "output_type": "stream",
     "text": [
      "<Experiment: artifact_location='dbfs:/databricks/mlflow/8460539', experiment_id='8460539', lifecycle_stage='active', name='/Users/stuart.lynn@databricks.com/stuarts-sagemaker-experiment', tags={}>\n"
     ]
    }
   ],
   "source": [
    "import mlflow\n",
    "mlflow.set_tracking_uri(f\"databricks://{profile_name}\")\n",
    "mlflow.create_experiment(f\"/Users/{workspace_user_path}/{experiment_name}\")\n",
    "print(mlflow.get_experiment_by_name(f\"/Users/{workspace_user_path}/{experiment_name}\"))"
   ]
  },
  {
   "cell_type": "code",
   "execution_count": null,
   "metadata": {},
   "outputs": [],
   "source": []
  }
 ],
 "metadata": {
  "kernelspec": {
   "display_name": "conda_python3",
   "language": "python",
   "name": "conda_python3"
  },
  "language_info": {
   "codemirror_mode": {
    "name": "ipython",
    "version": 3
   },
   "file_extension": ".py",
   "mimetype": "text/x-python",
   "name": "python",
   "nbconvert_exporter": "python",
   "pygments_lexer": "ipython3",
   "version": "3.6.10"
  }
 },
 "nbformat": 4,
 "nbformat_minor": 4
}
